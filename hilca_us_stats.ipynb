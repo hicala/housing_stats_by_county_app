{
 "metadata": {
  "language_info": {
   "codemirror_mode": {
    "name": "ipython",
    "version": 3
   },
   "file_extension": ".py",
   "mimetype": "text/x-python",
   "name": "python",
   "nbconvert_exporter": "python",
   "pygments_lexer": "ipython3",
   "version": "3.8.3-final"
  },
  "orig_nbformat": 2,
  "kernelspec": {
   "name": "python3",
   "display_name": "Python 3"
  }
 },
 "nbformat": 4,
 "nbformat_minor": 2,
 "cells": [
  {
   "cell_type": "code",
   "execution_count": 3,
   "metadata": {},
   "outputs": [],
   "source": [
    "# If you don't have Beautiful Soup, install with 'conda install beautifulsoup' in terminal\n",
    "# Python requires us to explicitly load the libraries that we want to use:\n",
    "\n",
    "import math\n",
    "from math import pi\n",
    "import matplotlib as plt\n",
    "import requests\n",
    "import bs4\n"
   ]
  },
  {
   "cell_type": "code",
   "execution_count": 4,
   "metadata": {},
   "outputs": [],
   "source": [
    "# Load a webpage into python so that we can parse it and manipulate it.\n",
    "\n",
    "URL = 'http://duspviz.mit.edu/_assets/data/county_housing_stats.html'"
   ]
  },
  {
   "cell_type": "code",
   "execution_count": 6,
   "metadata": {},
   "outputs": [],
   "source": [
    "# Control of Connection\n",
    "# We just turned the website code into a Python object. \n",
    "response = requests.get(URL)"
   ]
  },
  {
   "cell_type": "code",
   "execution_count": null,
   "metadata": {},
   "outputs": [],
   "source": [
    "# Print the output\n",
    "# print(response.text) "
   ]
  },
  {
   "cell_type": "code",
   "execution_count": 7,
   "metadata": {},
   "outputs": [],
   "source": [
    "soup = bs4.BeautifulSoup(response.text, \"html.parser\")"
   ]
  },
  {
   "cell_type": "code",
   "execution_count": null,
   "metadata": {},
   "outputs": [],
   "source": [
    "# find all the tags with class city or number\n",
    "data = soup.findAll(attrs={'class':['name','fips','tot-pop','median-income','no-housing-units','med-home-val','owner-occupied','house-w-debt','house-wo-debt']})\n"
   ]
  },
  {
   "cell_type": "code",
   "execution_count": null,
   "metadata": {},
   "outputs": [],
   "source": [
    "# print 'data' to console\n",
    "print(data)"
   ]
  },
  {
   "cell_type": "code",
   "execution_count": null,
   "metadata": {},
   "outputs": [],
   "source": [
    "f = open('hilca_us_stats_data.csv','a') # open new file, make sure path to your data file is correct\n",
    "\n",
    "p = 0 # initial place in array\n",
    "l = len(data)-1 # length of array minus one\n"
   ]
  },
  {
   "cell_type": "code",
   "execution_count": null,
   "metadata": {},
   "outputs": [],
   "source": [
    "\n",
    "f.write(\"County, State, FIPS Code, Total Pop, Median Income ($), No. of Housing Units, Median Home Value ($), No. of Owner Occupied Housing Units, No. of Owner Occ. Housing Units with Debt, No. of Owner Occ. Housing Units without Debt\\n\") #write headers\n"
   ]
  },
  {
   "cell_type": "code",
   "execution_count": null,
   "metadata": {},
   "outputs": [],
   "source": [
    "while p < l: # while place is less than length\n",
    "    f.write(data[p].string + \", \") # write county and add comma\n",
    "    p = p + 1 # increment\n",
    "    f.write(data[p].string + \", \") # write FIPS and add comma\n",
    "    p = p + 1 # increment\n",
    "    f.write(data[p].string + \", \") # write Total Pop and add comma\n",
    "    p = p + 1 # increment\n",
    "    f.write(data[p].string + \", \") # write Median Income and add comma\n",
    "    p = p + 1 # increment\n",
    "    f.write(data[p].string + \", \") # write No. of Housing Units and add comma\n",
    "    p = p + 1 # increment\n",
    "    f.write(data[p].string + \", \") # write Median Home Value and add comma\n",
    "    p = p + 1 # increment\n",
    "    f.write(data[p].string + \", \") # write No. of Owner Occupied Housing Units and add comma\n",
    "    p = p + 1 # increment\n",
    "    f.write(data[p].string + \", \") # write No. of Owner Occ. Housing Units with Debt and add comma\n",
    "    p = p + 1 # increment\n",
    "    f.write(data[p].string + \"\\n\") # write No. of Owner Occ. Housing Units without Debt and line break\n",
    "    p = p + 1 # increment"
   ]
  },
  {
   "cell_type": "code",
   "execution_count": null,
   "metadata": {},
   "outputs": [],
   "source": [
    "    \n",
    "f.close() # close file"
   ]
  }
 ]
}